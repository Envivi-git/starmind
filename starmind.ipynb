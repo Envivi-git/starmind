{
  "nbformat": 4,
  "nbformat_minor": 0,
  "metadata": {
    "colab": {
      "name": "starmind.ipynb",
      "provenance": [],
      "authorship_tag": "ABX9TyO1hEaaIkXQ7L0tHRpt0hBZ",
      "include_colab_link": true
    },
    "kernelspec": {
      "name": "python3",
      "display_name": "Python 3"
    },
    "language_info": {
      "name": "python"
    }
  },
  "cells": [
    {
      "cell_type": "markdown",
      "metadata": {
        "id": "view-in-github",
        "colab_type": "text"
      },
      "source": [
        "<a href=\"https://colab.research.google.com/github/Envivi-git/starmind/blob/main/starmind.ipynb\" target=\"_parent\"><img src=\"https://colab.research.google.com/assets/colab-badge.svg\" alt=\"Open In Colab\"/></a>"
      ]
    },
    {
      "cell_type": "code",
      "metadata": {
        "id": "sYRwqkhjk1Z2"
      },
      "source": [
        "!pip install python-Levenshtein"
      ],
      "execution_count": null,
      "outputs": []
    },
    {
      "cell_type": "code",
      "metadata": {
        "id": "9Rmvc2mxiymw"
      },
      "source": [
        "import pandas as pd\n",
        "from Levenshtein import distance\n",
        "import re\n"
      ],
      "execution_count": 13,
      "outputs": []
    },
    {
      "cell_type": "code",
      "metadata": {
        "colab": {
          "base_uri": "https://localhost:8080/",
          "height": 206
        },
        "id": "a4VRp3qzjKyh",
        "outputId": "613a0326-8a78-44e9-c564-e08fc11eb772"
      },
      "source": [
        "df = pd.read_csv(\"/content/20210103_hundenamen.csv\")\n",
        "df.head()"
      ],
      "execution_count": 41,
      "outputs": [
        {
          "output_type": "execute_result",
          "data": {
            "text/html": [
              "<div>\n",
              "<style scoped>\n",
              "    .dataframe tbody tr th:only-of-type {\n",
              "        vertical-align: middle;\n",
              "    }\n",
              "\n",
              "    .dataframe tbody tr th {\n",
              "        vertical-align: top;\n",
              "    }\n",
              "\n",
              "    .dataframe thead th {\n",
              "        text-align: right;\n",
              "    }\n",
              "</style>\n",
              "<table border=\"1\" class=\"dataframe\">\n",
              "  <thead>\n",
              "    <tr style=\"text-align: right;\">\n",
              "      <th></th>\n",
              "      <th>HUNDENAME</th>\n",
              "      <th>GEBURTSJAHR_HUND</th>\n",
              "      <th>GESCHLECHT_HUND</th>\n",
              "    </tr>\n",
              "  </thead>\n",
              "  <tbody>\n",
              "    <tr>\n",
              "      <th>0</th>\n",
              "      <td>Ituma</td>\n",
              "      <td>2011</td>\n",
              "      <td>w</td>\n",
              "    </tr>\n",
              "    <tr>\n",
              "      <th>1</th>\n",
              "      <td>\"Bo\" Bendy of Treegarden</td>\n",
              "      <td>2020</td>\n",
              "      <td>m</td>\n",
              "    </tr>\n",
              "    <tr>\n",
              "      <th>2</th>\n",
              "      <td>\"Bobby\" Lord Sinclair</td>\n",
              "      <td>2009</td>\n",
              "      <td>m</td>\n",
              "    </tr>\n",
              "    <tr>\n",
              "      <th>3</th>\n",
              "      <td>\"Buddy\" Fortheringhay's J.</td>\n",
              "      <td>2011</td>\n",
              "      <td>m</td>\n",
              "    </tr>\n",
              "    <tr>\n",
              "      <th>4</th>\n",
              "      <td>\"Fly\" Showring i fly for you</td>\n",
              "      <td>2015</td>\n",
              "      <td>w</td>\n",
              "    </tr>\n",
              "  </tbody>\n",
              "</table>\n",
              "</div>"
            ],
            "text/plain": [
              "                      HUNDENAME  GEBURTSJAHR_HUND GESCHLECHT_HUND\n",
              "0                         Ituma              2011               w\n",
              "1      \"Bo\" Bendy of Treegarden              2020               m\n",
              "2         \"Bobby\" Lord Sinclair              2009               m\n",
              "3    \"Buddy\" Fortheringhay's J.              2011               m\n",
              "4  \"Fly\" Showring i fly for you              2015               w"
            ]
          },
          "metadata": {
            "tags": []
          },
          "execution_count": 41
        }
      ]
    },
    {
      "cell_type": "code",
      "metadata": {
        "id": "pbZN1Y8Imi0B"
      },
      "source": [
        "# We want to camper full name\n",
        "# I don't want to use any pseudonim\n",
        "# I also assume that we don't want to be case sensitive\n",
        "# I also assume that full names are not in between \"\" or ()\n",
        "# I do not remove accents and apostrophe. They are character that need to be transform\n",
        "\n",
        "def cleanning(sentence):\n",
        "  #remove words between \"\"\n",
        "  pattern_1 = re.compile(r'\"\\s?\\w+\\s?\"')\n",
        "  #remove words between ()\n",
        "  pattern_2 = re.compile(r'\\(\\s?\\w+\\s?\\)')\n",
        "  #remove words between - and .\n",
        "  pattern_3 = re.compile(r'[-\\.]')\n",
        "  #remove 2 or more white spaces\n",
        "  pattern_4= re.compile(r'\\s\\s+')\n",
        "\n",
        "\n",
        "  sentence=pattern_1.sub(\"\",sentence.lower())\n",
        "  sentence=pattern_2.sub(\"\",sentence)\n",
        "  sentence=pattern_3.sub(\"\",sentence)\n",
        "  sentence=pattern_4.sub(\"\",sentence)\n",
        "\n",
        "  return sentence\n",
        "\n",
        "\n",
        "df['new_name'] = df['HUNDENAME'].apply(cleanning)"
      ],
      "execution_count": 34,
      "outputs": []
    },
    {
      "cell_type": "code",
      "metadata": {
        "id": "IBXZc6uOtv3H"
      },
      "source": [
        "#Function to calculate distance\n",
        "def calc_lev_dist(hund_name):\n",
        "\n",
        "  d=distance('luca',hund_name)\n",
        "\n",
        "  return d"
      ],
      "execution_count": 36,
      "outputs": []
    },
    {
      "cell_type": "code",
      "metadata": {
        "id": "Oh7Fyp0uyNKZ"
      },
      "source": [
        "names= [name for name in df.new_name if calc_lev_dist(name)==1]\n"
      ],
      "execution_count": 38,
      "outputs": []
    },
    {
      "cell_type": "code",
      "metadata": {
        "colab": {
          "base_uri": "https://localhost:8080/"
        },
        "id": "-9WIPJpEoVXh",
        "outputId": "070b37ac-f67f-46fa-cfaa-a29713a34786"
      },
      "source": [
        "#unique names\n",
        "set(names)"
      ],
      "execution_count": 40,
      "outputs": [
        {
          "output_type": "execute_result",
          "data": {
            "text/plain": [
              "{'cuca',\n",
              " 'lua',\n",
              " 'luba',\n",
              " 'lucas',\n",
              " 'luce',\n",
              " 'lucia',\n",
              " 'lucy',\n",
              " 'lula',\n",
              " 'luma',\n",
              " 'luna',\n",
              " 'lupa',\n",
              " 'yuca'}"
            ]
          },
          "metadata": {
            "tags": []
          },
          "execution_count": 40
        }
      ]
    }
  ]
}